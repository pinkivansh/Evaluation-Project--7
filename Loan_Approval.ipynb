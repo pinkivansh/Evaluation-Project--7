{
 "cells": [
  {
   "cell_type": "code",
   "execution_count": 3,
   "id": "334d34c8",
   "metadata": {},
   "outputs": [],
   "source": [
    "##### Load Basic Libraries\n",
    "import pandas as pd\n",
    "import numpy as np\n",
    "import seaborn as sns\n",
    "import matplotlib.pyplot as plt\n",
    "import warnings\n",
    "warnings.filterwarnings('ignore')\n",
    "import sklearn"
   ]
  },
  {
   "cell_type": "markdown",
   "id": "4be45c14",
   "metadata": {},
   "source": [
    "# Step1 : Loading the Dataset"
   ]
  },
  {
   "cell_type": "code",
   "execution_count": 4,
   "id": "906d1e40",
   "metadata": {},
   "outputs": [],
   "source": [
    "##### load the Datasets\n",
    "Loan_Dataset=pd.read_csv('loan_prediction.csv')"
   ]
  },
  {
   "cell_type": "code",
   "execution_count": 5,
   "id": "1e0a8a6e",
   "metadata": {},
   "outputs": [
    {
     "data": {
      "text/html": [
       "<div>\n",
       "<style scoped>\n",
       "    .dataframe tbody tr th:only-of-type {\n",
       "        vertical-align: middle;\n",
       "    }\n",
       "\n",
       "    .dataframe tbody tr th {\n",
       "        vertical-align: top;\n",
       "    }\n",
       "\n",
       "    .dataframe thead th {\n",
       "        text-align: right;\n",
       "    }\n",
       "</style>\n",
       "<table border=\"1\" class=\"dataframe\">\n",
       "  <thead>\n",
       "    <tr style=\"text-align: right;\">\n",
       "      <th></th>\n",
       "      <th>Loan_ID</th>\n",
       "      <th>Gender</th>\n",
       "      <th>Married</th>\n",
       "      <th>Dependents</th>\n",
       "      <th>Education</th>\n",
       "      <th>Self_Employed</th>\n",
       "      <th>ApplicantIncome</th>\n",
       "      <th>CoapplicantIncome</th>\n",
       "      <th>LoanAmount</th>\n",
       "      <th>Loan_Amount_Term</th>\n",
       "      <th>Credit_History</th>\n",
       "      <th>Property_Area</th>\n",
       "      <th>Loan_Status</th>\n",
       "    </tr>\n",
       "  </thead>\n",
       "  <tbody>\n",
       "    <tr>\n",
       "      <th>0</th>\n",
       "      <td>LP001002</td>\n",
       "      <td>Male</td>\n",
       "      <td>No</td>\n",
       "      <td>0</td>\n",
       "      <td>Graduate</td>\n",
       "      <td>No</td>\n",
       "      <td>5849</td>\n",
       "      <td>0.0</td>\n",
       "      <td>NaN</td>\n",
       "      <td>360.0</td>\n",
       "      <td>1.0</td>\n",
       "      <td>Urban</td>\n",
       "      <td>Y</td>\n",
       "    </tr>\n",
       "    <tr>\n",
       "      <th>1</th>\n",
       "      <td>LP001003</td>\n",
       "      <td>Male</td>\n",
       "      <td>Yes</td>\n",
       "      <td>1</td>\n",
       "      <td>Graduate</td>\n",
       "      <td>No</td>\n",
       "      <td>4583</td>\n",
       "      <td>1508.0</td>\n",
       "      <td>128.0</td>\n",
       "      <td>360.0</td>\n",
       "      <td>1.0</td>\n",
       "      <td>Rural</td>\n",
       "      <td>N</td>\n",
       "    </tr>\n",
       "    <tr>\n",
       "      <th>2</th>\n",
       "      <td>LP001005</td>\n",
       "      <td>Male</td>\n",
       "      <td>Yes</td>\n",
       "      <td>0</td>\n",
       "      <td>Graduate</td>\n",
       "      <td>Yes</td>\n",
       "      <td>3000</td>\n",
       "      <td>0.0</td>\n",
       "      <td>66.0</td>\n",
       "      <td>360.0</td>\n",
       "      <td>1.0</td>\n",
       "      <td>Urban</td>\n",
       "      <td>Y</td>\n",
       "    </tr>\n",
       "    <tr>\n",
       "      <th>3</th>\n",
       "      <td>LP001006</td>\n",
       "      <td>Male</td>\n",
       "      <td>Yes</td>\n",
       "      <td>0</td>\n",
       "      <td>Not Graduate</td>\n",
       "      <td>No</td>\n",
       "      <td>2583</td>\n",
       "      <td>2358.0</td>\n",
       "      <td>120.0</td>\n",
       "      <td>360.0</td>\n",
       "      <td>1.0</td>\n",
       "      <td>Urban</td>\n",
       "      <td>Y</td>\n",
       "    </tr>\n",
       "    <tr>\n",
       "      <th>4</th>\n",
       "      <td>LP001008</td>\n",
       "      <td>Male</td>\n",
       "      <td>No</td>\n",
       "      <td>0</td>\n",
       "      <td>Graduate</td>\n",
       "      <td>No</td>\n",
       "      <td>6000</td>\n",
       "      <td>0.0</td>\n",
       "      <td>141.0</td>\n",
       "      <td>360.0</td>\n",
       "      <td>1.0</td>\n",
       "      <td>Urban</td>\n",
       "      <td>Y</td>\n",
       "    </tr>\n",
       "    <tr>\n",
       "      <th>...</th>\n",
       "      <td>...</td>\n",
       "      <td>...</td>\n",
       "      <td>...</td>\n",
       "      <td>...</td>\n",
       "      <td>...</td>\n",
       "      <td>...</td>\n",
       "      <td>...</td>\n",
       "      <td>...</td>\n",
       "      <td>...</td>\n",
       "      <td>...</td>\n",
       "      <td>...</td>\n",
       "      <td>...</td>\n",
       "      <td>...</td>\n",
       "    </tr>\n",
       "    <tr>\n",
       "      <th>609</th>\n",
       "      <td>LP002978</td>\n",
       "      <td>Female</td>\n",
       "      <td>No</td>\n",
       "      <td>0</td>\n",
       "      <td>Graduate</td>\n",
       "      <td>No</td>\n",
       "      <td>2900</td>\n",
       "      <td>0.0</td>\n",
       "      <td>71.0</td>\n",
       "      <td>360.0</td>\n",
       "      <td>1.0</td>\n",
       "      <td>Rural</td>\n",
       "      <td>Y</td>\n",
       "    </tr>\n",
       "    <tr>\n",
       "      <th>610</th>\n",
       "      <td>LP002979</td>\n",
       "      <td>Male</td>\n",
       "      <td>Yes</td>\n",
       "      <td>3+</td>\n",
       "      <td>Graduate</td>\n",
       "      <td>No</td>\n",
       "      <td>4106</td>\n",
       "      <td>0.0</td>\n",
       "      <td>40.0</td>\n",
       "      <td>180.0</td>\n",
       "      <td>1.0</td>\n",
       "      <td>Rural</td>\n",
       "      <td>Y</td>\n",
       "    </tr>\n",
       "    <tr>\n",
       "      <th>611</th>\n",
       "      <td>LP002983</td>\n",
       "      <td>Male</td>\n",
       "      <td>Yes</td>\n",
       "      <td>1</td>\n",
       "      <td>Graduate</td>\n",
       "      <td>No</td>\n",
       "      <td>8072</td>\n",
       "      <td>240.0</td>\n",
       "      <td>253.0</td>\n",
       "      <td>360.0</td>\n",
       "      <td>1.0</td>\n",
       "      <td>Urban</td>\n",
       "      <td>Y</td>\n",
       "    </tr>\n",
       "    <tr>\n",
       "      <th>612</th>\n",
       "      <td>LP002984</td>\n",
       "      <td>Male</td>\n",
       "      <td>Yes</td>\n",
       "      <td>2</td>\n",
       "      <td>Graduate</td>\n",
       "      <td>No</td>\n",
       "      <td>7583</td>\n",
       "      <td>0.0</td>\n",
       "      <td>187.0</td>\n",
       "      <td>360.0</td>\n",
       "      <td>1.0</td>\n",
       "      <td>Urban</td>\n",
       "      <td>Y</td>\n",
       "    </tr>\n",
       "    <tr>\n",
       "      <th>613</th>\n",
       "      <td>LP002990</td>\n",
       "      <td>Female</td>\n",
       "      <td>No</td>\n",
       "      <td>0</td>\n",
       "      <td>Graduate</td>\n",
       "      <td>Yes</td>\n",
       "      <td>4583</td>\n",
       "      <td>0.0</td>\n",
       "      <td>133.0</td>\n",
       "      <td>360.0</td>\n",
       "      <td>0.0</td>\n",
       "      <td>Semiurban</td>\n",
       "      <td>N</td>\n",
       "    </tr>\n",
       "  </tbody>\n",
       "</table>\n",
       "<p>614 rows × 13 columns</p>\n",
       "</div>"
      ],
      "text/plain": [
       "      Loan_ID  Gender Married Dependents     Education Self_Employed  \\\n",
       "0    LP001002    Male      No          0      Graduate            No   \n",
       "1    LP001003    Male     Yes          1      Graduate            No   \n",
       "2    LP001005    Male     Yes          0      Graduate           Yes   \n",
       "3    LP001006    Male     Yes          0  Not Graduate            No   \n",
       "4    LP001008    Male      No          0      Graduate            No   \n",
       "..        ...     ...     ...        ...           ...           ...   \n",
       "609  LP002978  Female      No          0      Graduate            No   \n",
       "610  LP002979    Male     Yes         3+      Graduate            No   \n",
       "611  LP002983    Male     Yes          1      Graduate            No   \n",
       "612  LP002984    Male     Yes          2      Graduate            No   \n",
       "613  LP002990  Female      No          0      Graduate           Yes   \n",
       "\n",
       "     ApplicantIncome  CoapplicantIncome  LoanAmount  Loan_Amount_Term  \\\n",
       "0               5849                0.0         NaN             360.0   \n",
       "1               4583             1508.0       128.0             360.0   \n",
       "2               3000                0.0        66.0             360.0   \n",
       "3               2583             2358.0       120.0             360.0   \n",
       "4               6000                0.0       141.0             360.0   \n",
       "..               ...                ...         ...               ...   \n",
       "609             2900                0.0        71.0             360.0   \n",
       "610             4106                0.0        40.0             180.0   \n",
       "611             8072              240.0       253.0             360.0   \n",
       "612             7583                0.0       187.0             360.0   \n",
       "613             4583                0.0       133.0             360.0   \n",
       "\n",
       "     Credit_History Property_Area Loan_Status  \n",
       "0               1.0         Urban           Y  \n",
       "1               1.0         Rural           N  \n",
       "2               1.0         Urban           Y  \n",
       "3               1.0         Urban           Y  \n",
       "4               1.0         Urban           Y  \n",
       "..              ...           ...         ...  \n",
       "609             1.0         Rural           Y  \n",
       "610             1.0         Rural           Y  \n",
       "611             1.0         Urban           Y  \n",
       "612             1.0         Urban           Y  \n",
       "613             0.0     Semiurban           N  \n",
       "\n",
       "[614 rows x 13 columns]"
      ]
     },
     "execution_count": 5,
     "metadata": {},
     "output_type": "execute_result"
    }
   ],
   "source": [
    "Loan_Dataset"
   ]
  },
  {
   "cell_type": "markdown",
   "id": "8eed0cbd",
   "metadata": {},
   "source": [
    "                                                                                                                               Analysis: There is only 1 data set, which needs to be train & test with the help of the actual target variable as ‘Loan     Status’. Train file will be used for training the model, i.e. the model will learn from this file.\n",
    "\n",
    "     It contains all the independent variables and the target variable. Size of training set: 614 rows & 13 columns."
   ]
  },
  {
   "cell_type": "markdown",
   "id": "f2a656b1",
   "metadata": {},
   "source": [
    "# Step2 : EDA(Exploratory Data Analysis) and Visualization"
   ]
  },
  {
   "cell_type": "code",
   "execution_count": 6,
   "id": "89c78acb",
   "metadata": {},
   "outputs": [
    {
     "data": {
      "text/plain": [
       "Loan_ID               0\n",
       "Gender               13\n",
       "Married               3\n",
       "Dependents           15\n",
       "Education             0\n",
       "Self_Employed        32\n",
       "ApplicantIncome       0\n",
       "CoapplicantIncome     0\n",
       "LoanAmount           22\n",
       "Loan_Amount_Term     14\n",
       "Credit_History       50\n",
       "Property_Area         0\n",
       "Loan_Status           0\n",
       "dtype: int64"
      ]
     },
     "execution_count": 6,
     "metadata": {},
     "output_type": "execute_result"
    }
   ],
   "source": [
    "# Handling Missing values:\n",
    "Loan_Dataset.isnull().sum()"
   ]
  },
  {
   "cell_type": "code",
   "execution_count": 7,
   "id": "7242f2d2",
   "metadata": {},
   "outputs": [
    {
     "data": {
      "text/plain": [
       "<AxesSubplot:>"
      ]
     },
     "execution_count": 7,
     "metadata": {},
     "output_type": "execute_result"
    },
    {
     "data": {
      "image/png": "[encoded data removed]",
      "text/plain": [
       "<Figure size 432x288 with 2 Axes>"
      ]
     },
     "metadata": {
      "needs_background": "light"
     },
     "output_type": "display_data"
    }
   ],
   "source": [
    "#### see Null Value using Heatmap visualization\n",
    "sns.heatmap(Loan_Dataset.isnull())"
   ]
  },
  {
   "cell_type": "markdown",
   "id": "6cdfca9e",
   "metadata": {},
   "source": [
    "##### seems to be null value with white space is showing"
   ]
  },
  {
   "cell_type": "code",
   "execution_count": 8,
   "id": "be6830ca",
   "metadata": {},
   "outputs": [
    {
     "data": {
      "text/plain": [
       "(614, 13)"
      ]
     },
     "execution_count": 8,
     "metadata": {},
     "output_type": "execute_result"
    }
   ],
   "source": [
    "##### check the shape of datasets\n",
    "Loan_Dataset.shape"
   ]
  },
  {
   "cell_type": "markdown",
   "id": "5a1b32ed",
   "metadata": {},
   "source": [
    "#### rows = 614 and columns = 13"
   ]
  },
  {
   "cell_type": "code",
   "execution_count": 9,
   "id": "ad3559dc",
   "metadata": {},
   "outputs": [
    {
     "data": {
      "text/plain": [
       "Loan_ID               object\n",
       "Gender                object\n",
       "Married               object\n",
       "Dependents            object\n",
       "Education             object\n",
       "Self_Employed         object\n",
       "ApplicantIncome        int64\n",
       "CoapplicantIncome    float64\n",
       "LoanAmount           float64\n",
       "Loan_Amount_Term     float64\n",
       "Credit_History       float64\n",
       "Property_Area         object\n",
       "Loan_Status           object\n",
       "dtype: object"
      ]
     },
     "execution_count": 9,
     "metadata": {},
     "output_type": "execute_result"
    }
   ],
   "source": [
    "##### check the statistical information \n",
    "Loan_Dataset.dtypes"
   ]
  },
  {
   "cell_type": "markdown",
   "id": "6ef8b174",
   "metadata": {},
   "source": [
    "# step 3: understanding the data at a high level. Checking the statistics of the data set:"
   ]
  },
  {
   "cell_type": "code",
   "execution_count": 10,
   "id": "3d72ebe0",
   "metadata": {},
   "outputs": [
    {
     "data": {
      "text/html": [
       "<div>\n",
       "<style scoped>\n",
       "    .dataframe tbody tr th:only-of-type {\n",
       "        vertical-align: middle;\n",
       "    }\n",
       "\n",
       "    .dataframe tbody tr th {\n",
       "        vertical-align: top;\n",
       "    }\n",
       "\n",
       "    .dataframe thead th {\n",
       "        text-align: right;\n",
       "    }\n",
       "</style>\n",
       "<table border=\"1\" class=\"dataframe\">\n",
       "  <thead>\n",
       "    <tr style=\"text-align: right;\">\n",
       "      <th></th>\n",
       "      <th>ApplicantIncome</th>\n",
       "      <th>CoapplicantIncome</th>\n",
       "      <th>LoanAmount</th>\n",
       "      <th>Loan_Amount_Term</th>\n",
       "      <th>Credit_History</th>\n",
       "    </tr>\n",
       "  </thead>\n",
       "  <tbody>\n",
       "    <tr>\n",
       "      <th>count</th>\n",
       "      <td>614.000000</td>\n",
       "      <td>614.000000</td>\n",
       "      <td>592.000000</td>\n",
       "      <td>600.00000</td>\n",
       "      <td>564.000000</td>\n",
       "    </tr>\n",
       "    <tr>\n",
       "      <th>mean</th>\n",
       "      <td>5403.459283</td>\n",
       "      <td>1621.245798</td>\n",
       "      <td>146.412162</td>\n",
       "      <td>342.00000</td>\n",
       "      <td>0.842199</td>\n",
       "    </tr>\n",
       "    <tr>\n",
       "      <th>std</th>\n",
       "      <td>6109.041673</td>\n",
       "      <td>2926.248369</td>\n",
       "      <td>85.587325</td>\n",
       "      <td>65.12041</td>\n",
       "      <td>0.364878</td>\n",
       "    </tr>\n",
       "    <tr>\n",
       "      <th>min</th>\n",
       "      <td>150.000000</td>\n",
       "      <td>0.000000</td>\n",
       "      <td>9.000000</td>\n",
       "      <td>12.00000</td>\n",
       "      <td>0.000000</td>\n",
       "    </tr>\n",
       "    <tr>\n",
       "      <th>25%</th>\n",
       "      <td>2877.500000</td>\n",
       "      <td>0.000000</td>\n",
       "      <td>100.000000</td>\n",
       "      <td>360.00000</td>\n",
       "      <td>1.000000</td>\n",
       "    </tr>\n",
       "    <tr>\n",
       "      <th>50%</th>\n",
       "      <td>3812.500000</td>\n",
       "      <td>1188.500000</td>\n",
       "      <td>128.000000</td>\n",
       "      <td>360.00000</td>\n",
       "      <td>1.000000</td>\n",
       "    </tr>\n",
       "    <tr>\n",
       "      <th>75%</th>\n",
       "      <td>5795.000000</td>\n",
       "      <td>2297.250000</td>\n",
       "      <td>168.000000</td>\n",
       "      <td>360.00000</td>\n",
       "      <td>1.000000</td>\n",
       "    </tr>\n",
       "    <tr>\n",
       "      <th>max</th>\n",
       "      <td>81000.000000</td>\n",
       "      <td>41667.000000</td>\n",
       "      <td>700.000000</td>\n",
       "      <td>480.00000</td>\n",
       "      <td>1.000000</td>\n",
       "    </tr>\n",
       "  </tbody>\n",
       "</table>\n",
       "</div>"
      ],
      "text/plain": [
       "       ApplicantIncome  CoapplicantIncome  LoanAmount  Loan_Amount_Term  \\\n",
       "count       614.000000         614.000000  592.000000         600.00000   \n",
       "mean       5403.459283        1621.245798  146.412162         342.00000   \n",
       "std        6109.041673        2926.248369   85.587325          65.12041   \n",
       "min         150.000000           0.000000    9.000000          12.00000   \n",
       "25%        2877.500000           0.000000  100.000000         360.00000   \n",
       "50%        3812.500000        1188.500000  128.000000         360.00000   \n",
       "75%        5795.000000        2297.250000  168.000000         360.00000   \n",
       "max       81000.000000       41667.000000  700.000000         480.00000   \n",
       "\n",
       "       Credit_History  \n",
       "count      564.000000  \n",
       "mean         0.842199  \n",
       "std          0.364878  \n",
       "min          0.000000  \n",
       "25%          1.000000  \n",
       "50%          1.000000  \n",
       "75%          1.000000  \n",
       "max          1.000000  "
      ]
     },
     "execution_count": 10,
     "metadata": {},
     "output_type": "execute_result"
    }
   ],
   "source": [
    "#### check the statistical summary\n",
    "Loan_Dataset.describe()"
   ]
  },
  {
   "cell_type": "markdown",
   "id": "a03f7d85",
   "metadata": {},
   "source": [
    "\n",
    "Findings:\n",
    "\n",
    "· For a few features standard deviation is far from the mean, it may be because of data is more scattered.\n",
    "\n",
    "· Co-applicant is having a minimum income of zero.\n",
    "\n",
    "· Maximum loan applied is 700 having a minimum term of 480.\n",
    "\n",
    "· Minimum loan applied is 9 having minimum term 12.\n",
    "\n",
    "· Missing values in the Loan amount, loan amount term & credit history.\n"
   ]
  },
  {
   "cell_type": "code",
   "execution_count": 11,
   "id": "ecfb286a",
   "metadata": {},
   "outputs": [
    {
     "data": {
      "text/plain": [
       "Index(['Loan_ID', 'Gender', 'Married', 'Dependents', 'Education',\n",
       "       'Self_Employed', 'ApplicantIncome', 'CoapplicantIncome', 'LoanAmount',\n",
       "       'Loan_Amount_Term', 'Credit_History', 'Property_Area', 'Loan_Status'],\n",
       "      dtype='object')"
      ]
     },
     "execution_count": 11,
     "metadata": {},
     "output_type": "execute_result"
    }
   ],
   "source": [
    "#### see the columns name present in datasets\n",
    "Loan_Dataset.columns"
   ]
  },
  {
   "cell_type": "markdown",
   "id": "f8b800f6",
   "metadata": {},
   "source": [
    "# Step 4: Visualize the each columns with loan approval"
   ]
  },
  {
   "cell_type": "code",
   "execution_count": 12,
   "id": "687110a7",
   "metadata": {},
   "outputs": [
    {
     "data": {
      "text/plain": [
       "<AxesSubplot:xlabel='Gender', ylabel='count'>"
      ]
     },
     "execution_count": 12,
     "metadata": {},
     "output_type": "execute_result"
    },
    {
     "data": {
      "image/png": "[encoded data removed]",
      "text/plain": [
       "<Figure size 432x288 with 1 Axes>"
      ]
     },
     "metadata": {
      "needs_background": "light"
     },
     "output_type": "display_data"
    }
   ],
   "source": [
    "sns.countplot(x='Gender',hue='Loan_Status',data=Loan_Dataset)"
   ]
  },
  {
   "cell_type": "markdown",
   "id": "9c328ac8",
   "metadata": {},
   "source": [
    "     Findings :The maximum loan was approved & not approved for male-only & the total count of males is higher than females."
   ]
  },
  {
   "cell_type": "code",
   "execution_count": 13,
   "id": "7d1e7247",
   "metadata": {},
   "outputs": [
    {
     "data": {
      "text/plain": [
       "<AxesSubplot:xlabel='Married', ylabel='count'>"
      ]
     },
     "execution_count": 13,
     "metadata": {},
     "output_type": "execute_result"
    },
    {
     "data": {
      "image/png": "[encoded data removed]",
      "text/plain": [
       "<Figure size 432x288 with 1 Axes>"
      ]
     },
     "metadata": {
      "needs_background": "light"
     },
     "output_type": "display_data"
    }
   ],
   "source": [
    "sns.countplot(x='Married',hue='Loan_Status',data=Loan_Dataset)"
   ]
  },
  {
   "cell_type": "markdown",
   "id": "cf169080",
   "metadata": {},
   "source": [
    "       Findings: The maximum loan was approved & not approved for Married only & the total count of Married is higher than                        Unmarried.\n"
   ]
  },
  {
   "cell_type": "code",
   "execution_count": 14,
   "id": "ccac90ee",
   "metadata": {},
   "outputs": [
    {
     "data": {
      "text/plain": [
       "<AxesSubplot:xlabel='Dependents', ylabel='count'>"
      ]
     },
     "execution_count": 14,
     "metadata": {},
     "output_type": "execute_result"
    },
    {
     "data": {
      "image/png": "[encoded data removed]",
      "text/plain": [
       "<Figure size 432x288 with 1 Axes>"
      ]
     },
     "metadata": {
      "needs_background": "light"
     },
     "output_type": "display_data"
    }
   ],
   "source": [
    "sns.countplot(x='Dependents',hue='Loan_Status',data=Loan_Dataset)"
   ]
  },
  {
   "cell_type": "markdown",
   "id": "a3cbf8f2",
   "metadata": {},
   "source": [
    "     Findings: 0 dependents have more loan approval & have more count for both loan statuses.\n"
   ]
  },
  {
   "cell_type": "code",
   "execution_count": 15,
   "id": "c106a2c6",
   "metadata": {},
   "outputs": [
    {
     "data": {
      "text/plain": [
       "<AxesSubplot:xlabel='Education', ylabel='count'>"
      ]
     },
     "execution_count": 15,
     "metadata": {},
     "output_type": "execute_result"
    },
    {
     "data": {
      "image/png": "[encoded data removed]",
      "text/plain": [
       "<Figure size 432x288 with 1 Axes>"
      ]
     },
     "metadata": {
      "needs_background": "light"
     },
     "output_type": "display_data"
    }
   ],
   "source": [
    "sns.countplot(x='Education',hue='Loan_Status',data=Loan_Dataset)"
   ]
  },
  {
   "cell_type": "markdown",
   "id": "0d08e520",
   "metadata": {},
   "source": [
    "Findings: Graduates have more chances of getting loans approved."
   ]
  },
  {
   "cell_type": "code",
   "execution_count": 16,
   "id": "eeab872b",
   "metadata": {},
   "outputs": [
    {
     "data": {
      "text/plain": [
       "<AxesSubplot:xlabel='Self_Employed', ylabel='count'>"
      ]
     },
     "execution_count": 16,
     "metadata": {},
     "output_type": "execute_result"
    },
    {
     "data": {
      "image/png": "[encoded data removed]",
      "text/plain": [
       "<Figure size 432x288 with 1 Axes>"
      ]
     },
     "metadata": {
      "needs_background": "light"
     },
     "output_type": "display_data"
    }
   ],
   "source": [
    "\n",
    "sns.countplot(x='Self_Employed',hue='Loan_Status',data=Loan_Dataset)"
   ]
  },
  {
   "cell_type": "markdown",
   "id": "c04ba0b7",
   "metadata": {},
   "source": [
    "    Findings: Self-employed people have fewer chances of getting loans approved."
   ]
  },
  {
   "cell_type": "code",
   "execution_count": 17,
   "id": "c0c9532e",
   "metadata": {},
   "outputs": [
    {
     "data": {
      "text/plain": [
       "<AxesSubplot:xlabel='ApplicantIncome', ylabel='count'>"
      ]
     },
     "execution_count": 17,
     "metadata": {},
     "output_type": "execute_result"
    },
    {
     "data": {
      "image/png": "[encoded data removed]",
      "text/plain": [
       "<Figure size 1944x504 with 1 Axes>"
      ]
     },
     "metadata": {
      "needs_background": "light"
     },
     "output_type": "display_data"
    }
   ],
   "source": [
    "plt.figure(figsize=(27,7))\n",
    "sns.countplot(x='ApplicantIncome',hue='Loan_Status',data=Loan_Dataset[60:110])"
   ]
  },
  {
   "cell_type": "code",
   "execution_count": 18,
   "id": "bc869308",
   "metadata": {},
   "outputs": [
    {
     "data": {
      "text/plain": [
       "<AxesSubplot:xlabel='ApplicantIncome', ylabel='count'>"
      ]
     },
     "execution_count": 18,
     "metadata": {},
     "output_type": "execute_result"
    },
    {
     "data": {
      "image/png": "[encoded data removed]",
      "text/plain": [
       "<Figure size 1944x504 with 1 Axes>"
      ]
     },
     "metadata": {
      "needs_background": "light"
     },
     "output_type": "display_data"
    }
   ],
   "source": [
    "plt.figure(figsize=(27,7))\n",
    "sns.countplot(x='ApplicantIncome',hue='Loan_Status',data=Loan_Dataset[110:160])"
   ]
  },
  {
   "cell_type": "code",
   "execution_count": 19,
   "id": "d50581de",
   "metadata": {},
   "outputs": [
    {
     "data": {
      "text/plain": [
       "<AxesSubplot:xlabel='ApplicantIncome', ylabel='count'>"
      ]
     },
     "execution_count": 19,
     "metadata": {},
     "output_type": "execute_result"
    },
    {
     "data": {
      "image/png": "[encoded data removed]",
      "text/plain": [
       "<Figure size 1944x504 with 1 Axes>"
      ]
     },
     "metadata": {
      "needs_background": "light"
     },
     "output_type": "display_data"
    }
   ],
   "source": [
    "plt.figure(figsize=(27,7))\n",
    "sns.countplot(x='ApplicantIncome',hue='Loan_Status',data=Loan_Dataset[160:230])"
   ]
  },
  {
   "cell_type": "code",
   "execution_count": null,
   "id": "b1f119af",
   "metadata": {},
   "outputs": [],
   "source": []
  },
  {
   "cell_type": "code",
   "execution_count": 20,
   "id": "533bc1b3",
   "metadata": {},
   "outputs": [
    {
     "data": {
      "text/plain": [
       "Index(['Loan_ID', 'Gender', 'Married', 'Dependents', 'Education',\n",
       "       'Self_Employed', 'ApplicantIncome', 'CoapplicantIncome', 'LoanAmount',\n",
       "       'Loan_Amount_Term', 'Credit_History', 'Property_Area', 'Loan_Status'],\n",
       "      dtype='object')"
      ]
     },
     "execution_count": 20,
     "metadata": {},
     "output_type": "execute_result"
    }
   ],
   "source": [
    "Loan_Dataset.columns"
   ]
  },
  {
   "cell_type": "code",
   "execution_count": 21,
   "id": "3cf3acc8",
   "metadata": {},
   "outputs": [
    {
     "data": {
      "text/plain": [
       "<AxesSubplot:xlabel='Credit_History', ylabel='count'>"
      ]
     },
     "execution_count": 21,
     "metadata": {},
     "output_type": "execute_result"
    },
    {
     "data": {
      "image/png": "[encoded data removed]",
      "text/plain": [
       "<Figure size 432x288 with 1 Axes>"
      ]
     },
     "metadata": {
      "needs_background": "light"
     },
     "output_type": "display_data"
    }
   ],
   "source": [
    "sns.countplot(x='Credit_History',hue='Loan_Status',data=Loan_Dataset)"
   ]
  },
  {
   "cell_type": "markdown",
   "id": "5b711adb",
   "metadata": {},
   "source": [
    "  Findings: credit History 1 have the loan approval count is max in number"
   ]
  },
  {
   "cell_type": "code",
   "execution_count": 22,
   "id": "40cc963c",
   "metadata": {},
   "outputs": [
    {
     "data": {
      "text/plain": [
       "<AxesSubplot:xlabel='Property_Area', ylabel='count'>"
      ]
     },
     "execution_count": 22,
     "metadata": {},
     "output_type": "execute_result"
    },
    {
     "data": {
      "image/png": "[encoded data removed]",
      "text/plain": [
       "<Figure size 432x288 with 1 Axes>"
      ]
     },
     "metadata": {
      "needs_background": "light"
     },
     "output_type": "display_data"
    }
   ],
   "source": [
    "sns.countplot(x='Property_Area',hue='Loan_Status',data=Loan_Dataset)"
   ]
  },
  {
   "cell_type": "markdown",
   "id": "78ee9bb7",
   "metadata": {},
   "source": [
    " Findings: Semi Urban has maximum loan approval count intead of urban and Rural"
   ]
  },
  {
   "cell_type": "code",
   "execution_count": 23,
   "id": "ee75c6ab",
   "metadata": {},
   "outputs": [
    {
     "data": {
      "text/plain": [
       "<AxesSubplot:xlabel='LoanAmount', ylabel='count'>"
      ]
     },
     "execution_count": 23,
     "metadata": {},
     "output_type": "execute_result"
    },
    {
     "data": {
      "image/png": "[encoded data removed]",
      "text/plain": [
       "<Figure size 1944x504 with 1 Axes>"
      ]
     },
     "metadata": {
      "needs_background": "light"
     },
     "output_type": "display_data"
    }
   ],
   "source": [
    "plt.figure(figsize=(27,7))\n",
    "sns.countplot(x='LoanAmount',hue='Loan_Status',data=Loan_Dataset)"
   ]
  },
  {
   "cell_type": "code",
   "execution_count": 24,
   "id": "3a5248c2",
   "metadata": {},
   "outputs": [
    {
     "data": {
      "text/plain": [
       "<seaborn.axisgrid.PairGrid at 0x1eab4c72c40>"
      ]
     },
     "execution_count": 24,
     "metadata": {},
     "output_type": "execute_result"
    },
    {
     "data": {
      "image/png": "[encoded data removed]",
      "text/plain": [
       "<Figure size 900x900 with 30 Axes>"
      ]
     },
     "metadata": {
      "needs_background": "light"
     },
     "output_type": "display_data"
    }
   ],
   "source": [
    "sns.pairplot(Loan_Dataset)"
   ]
  },
  {
   "cell_type": "code",
   "execution_count": 25,
   "id": "074afcb6",
   "metadata": {},
   "outputs": [
    {
     "data": {
      "text/plain": [
       "<AxesSubplot:xlabel='Loan_Status', ylabel='count'>"
      ]
     },
     "execution_count": 25,
     "metadata": {},
     "output_type": "execute_result"
    },
    {
     "data": {
      "image/png": "[encoded data removed]",
      "text/plain": [
       "<Figure size 432x288 with 1 Axes>"
      ]
     },
     "metadata": {
      "needs_background": "light"
     },
     "output_type": "display_data"
    }
   ],
   "source": [
    "##### Target valribale COunt\n",
    "sns.countplot(Loan_Dataset['Loan_Status'])"
   ]
  },
  {
   "cell_type": "code",
   "execution_count": 26,
   "id": "70d45b04",
   "metadata": {},
   "outputs": [
    {
     "data": {
      "text/plain": [
       "Y    422\n",
       "N    192\n",
       "Name: Loan_Status, dtype: int64"
      ]
     },
     "execution_count": 26,
     "metadata": {},
     "output_type": "execute_result"
    }
   ],
   "source": [
    "Loan_Dataset['Loan_Status'].value_counts()"
   ]
  },
  {
   "cell_type": "markdown",
   "id": "765a8661",
   "metadata": {},
   "source": [
    "##### class imbalance is showing "
   ]
  },
  {
   "cell_type": "code",
   "execution_count": 27,
   "id": "65d1c19f",
   "metadata": {},
   "outputs": [],
   "source": [
    "cor=Loan_Dataset.corr()"
   ]
  },
  {
   "cell_type": "code",
   "execution_count": 28,
   "id": "d0aa361b",
   "metadata": {},
   "outputs": [
    {
     "data": {
      "text/html": [
       "<div>\n",
       "<style scoped>\n",
       "    .dataframe tbody tr th:only-of-type {\n",
       "        vertical-align: middle;\n",
       "    }\n",
       "\n",
       "    .dataframe tbody tr th {\n",
       "        vertical-align: top;\n",
       "    }\n",
       "\n",
       "    .dataframe thead th {\n",
       "        text-align: right;\n",
       "    }\n",
       "</style>\n",
       "<table border=\"1\" class=\"dataframe\">\n",
       "  <thead>\n",
       "    <tr style=\"text-align: right;\">\n",
       "      <th></th>\n",
       "      <th>ApplicantIncome</th>\n",
       "      <th>CoapplicantIncome</th>\n",
       "      <th>LoanAmount</th>\n",
       "      <th>Loan_Amount_Term</th>\n",
       "      <th>Credit_History</th>\n",
       "    </tr>\n",
       "  </thead>\n",
       "  <tbody>\n",
       "    <tr>\n",
       "      <th>ApplicantIncome</th>\n",
       "      <td>1.000000</td>\n",
       "      <td>-0.116605</td>\n",
       "      <td>0.570909</td>\n",
       "      <td>-0.045306</td>\n",
       "      <td>-0.014715</td>\n",
       "    </tr>\n",
       "    <tr>\n",
       "      <th>CoapplicantIncome</th>\n",
       "      <td>-0.116605</td>\n",
       "      <td>1.000000</td>\n",
       "      <td>0.188619</td>\n",
       "      <td>-0.059878</td>\n",
       "      <td>-0.002056</td>\n",
       "    </tr>\n",
       "    <tr>\n",
       "      <th>LoanAmount</th>\n",
       "      <td>0.570909</td>\n",
       "      <td>0.188619</td>\n",
       "      <td>1.000000</td>\n",
       "      <td>0.039447</td>\n",
       "      <td>-0.008433</td>\n",
       "    </tr>\n",
       "    <tr>\n",
       "      <th>Loan_Amount_Term</th>\n",
       "      <td>-0.045306</td>\n",
       "      <td>-0.059878</td>\n",
       "      <td>0.039447</td>\n",
       "      <td>1.000000</td>\n",
       "      <td>0.001470</td>\n",
       "    </tr>\n",
       "    <tr>\n",
       "      <th>Credit_History</th>\n",
       "      <td>-0.014715</td>\n",
       "      <td>-0.002056</td>\n",
       "      <td>-0.008433</td>\n",
       "      <td>0.001470</td>\n",
       "      <td>1.000000</td>\n",
       "    </tr>\n",
       "  </tbody>\n",
       "</table>\n",
       "</div>"
      ],
      "text/plain": [
       "                   ApplicantIncome  CoapplicantIncome  LoanAmount  \\\n",
       "ApplicantIncome           1.000000          -0.116605    0.570909   \n",
       "CoapplicantIncome        -0.116605           1.000000    0.188619   \n",
       "LoanAmount                0.570909           0.188619    1.000000   \n",
       "Loan_Amount_Term         -0.045306          -0.059878    0.039447   \n",
       "Credit_History           -0.014715          -0.002056   -0.008433   \n",
       "\n",
       "                   Loan_Amount_Term  Credit_History  \n",
       "ApplicantIncome           -0.045306       -0.014715  \n",
       "CoapplicantIncome         -0.059878       -0.002056  \n",
       "LoanAmount                 0.039447       -0.008433  \n",
       "Loan_Amount_Term           1.000000        0.001470  \n",
       "Credit_History             0.001470        1.000000  "
      ]
     },
     "execution_count": 28,
     "metadata": {},
     "output_type": "execute_result"
    }
   ],
   "source": [
    "cor"
   ]
  },
  {
   "cell_type": "code",
   "execution_count": 29,
   "id": "15ca4552",
   "metadata": {},
   "outputs": [
    {
     "data": {
      "text/plain": [
       "<AxesSubplot:>"
      ]
     },
     "execution_count": 29,
     "metadata": {},
     "output_type": "execute_result"
    },
    {
     "data": {
      "image/png": "[encoded data removed]",
      "text/plain": [
       "<Figure size 432x288 with 2 Axes>"
      ]
     },
     "metadata": {
      "needs_background": "light"
     },
     "output_type": "display_data"
    }
   ],
   "source": [
    "sns.heatmap(cor,annot=True)"
   ]
  },
  {
   "cell_type": "markdown",
   "id": "4b1fc831",
   "metadata": {},
   "source": [
    "#### Loan Amount with Applicant Income showing good co realtionship"
   ]
  },
  {
   "cell_type": "code",
   "execution_count": 30,
   "id": "aee5d17c",
   "metadata": {},
   "outputs": [
    {
     "data": {
      "text/plain": [
       "<AxesSubplot:xlabel='LoanAmount', ylabel='Density'>"
      ]
     },
     "execution_count": 30,
     "metadata": {},
     "output_type": "execute_result"
    },
    {
     "data": {
      "image/png": "[encoded data removed]",
      "text/plain": [
       "<Figure size 432x288 with 1 Axes>"
      ]
     },
     "metadata": {
      "needs_background": "light"
     },
     "output_type": "display_data"
    }
   ],
   "source": [
    "sns.kdeplot(Loan_Dataset['LoanAmount'])"
   ]
  },
  {
   "cell_type": "markdown",
   "id": "1c913a44",
   "metadata": {},
   "source": [
    "##### Right Skewness"
   ]
  },
  {
   "cell_type": "markdown",
   "id": "633a2d84",
   "metadata": {},
   "source": [
    "# Step 5 Preprocessing And Feature Engineering"
   ]
  },
  {
   "cell_type": "code",
   "execution_count": 31,
   "id": "8ccdb61c",
   "metadata": {},
   "outputs": [
    {
     "data": {
      "text/plain": [
       "Loan_ID               0\n",
       "Gender               13\n",
       "Married               3\n",
       "Dependents           15\n",
       "Education             0\n",
       "Self_Employed        32\n",
       "ApplicantIncome       0\n",
       "CoapplicantIncome     0\n",
       "LoanAmount           22\n",
       "Loan_Amount_Term     14\n",
       "Credit_History       50\n",
       "Property_Area         0\n",
       "Loan_Status           0\n",
       "dtype: int64"
      ]
     },
     "execution_count": 31,
     "metadata": {},
     "output_type": "execute_result"
    }
   ],
   "source": [
    "Loan_Dataset.isnull().sum()"
   ]
  },
  {
   "cell_type": "code",
   "execution_count": 32,
   "id": "4b021e46",
   "metadata": {},
   "outputs": [],
   "source": [
    "#Imputing the missing value for gender\n",
    "Loan_Dataset['Gender'].fillna(Loan_Dataset['Gender'].mode()[0],inplace=True)"
   ]
  },
  {
   "cell_type": "code",
   "execution_count": 33,
   "id": "24c02a37",
   "metadata": {},
   "outputs": [],
   "source": [
    "#Imputing the missing value for Married\n",
    "Loan_Dataset['Married'].fillna(Loan_Dataset['Married'].mode()[0],inplace=True)"
   ]
  },
  {
   "cell_type": "code",
   "execution_count": 34,
   "id": "fb3a67c8",
   "metadata": {},
   "outputs": [],
   "source": [
    "#Imputing the missing value for Self-employed\n",
    "Loan_Dataset['Self_Employed'].fillna(Loan_Dataset['Self_Employed'].mode()[0],inplace=True)"
   ]
  },
  {
   "cell_type": "code",
   "execution_count": 35,
   "id": "ac586c21",
   "metadata": {},
   "outputs": [],
   "source": [
    "#Imputing the missing value for Dependents\n",
    "Loan_Dataset['Dependents'].fillna(Loan_Dataset['Dependents'].mode()[0],inplace=True)"
   ]
  },
  {
   "cell_type": "code",
   "execution_count": 36,
   "id": "c33904f6",
   "metadata": {},
   "outputs": [],
   "source": [
    "##Imputing the missing value for LoanAmount\n",
    "Loan_Dataset['LoanAmount'].fillna(Loan_Dataset['LoanAmount'].mean(),inplace=True)"
   ]
  },
  {
   "cell_type": "code",
   "execution_count": 37,
   "id": "696be9e8",
   "metadata": {},
   "outputs": [],
   "source": [
    "#Imputing the missing value for Loan_Amount_Term\n",
    "Loan_Dataset['Loan_Amount_Term'].fillna(Loan_Dataset['Loan_Amount_Term'].mean(),inplace=True)"
   ]
  },
  {
   "cell_type": "code",
   "execution_count": 38,
   "id": "fe8d9132",
   "metadata": {},
   "outputs": [],
   "source": [
    "#Imputing the missing value for Credit_History\n",
    "Loan_Dataset['Credit_History'].fillna(Loan_Dataset['Credit_History'].mode()[0],inplace=True)"
   ]
  },
  {
   "cell_type": "markdown",
   "id": "aba66a15",
   "metadata": {},
   "source": [
    "# Step 6: Understanding the distribution of continuous features:\n"
   ]
  },
  {
   "cell_type": "markdown",
   "id": "d2daa440",
   "metadata": {},
   "source": [
    "##### Check for Outliers for Applicant Income and Loan Amount"
   ]
  },
  {
   "cell_type": "code",
   "execution_count": 41,
   "id": "b1e498cf",
   "metadata": {},
   "outputs": [
    {
     "data": {
      "text/plain": [
       "<AxesSubplot:>"
      ]
     },
     "execution_count": 41,
     "metadata": {},
     "output_type": "execute_result"
    },
    {
     "data": {
      "image/png": "[encoded data removed]",
      "text/plain": [
       "<Figure size 432x288 with 1 Axes>"
      ]
     },
     "metadata": {
      "needs_background": "light"
     },
     "output_type": "display_data"
    }
   ],
   "source": [
    "Loan_Dataset['LoanAmount'].hist()"
   ]
  },
  {
   "cell_type": "code",
   "execution_count": 42,
   "id": "57cae3d5",
   "metadata": {},
   "outputs": [],
   "source": [
    "#### seems to be right skewed"
   ]
  },
  {
   "cell_type": "code",
   "execution_count": 43,
   "id": "98f4ae71",
   "metadata": {},
   "outputs": [
    {
     "data": {
      "text/plain": [
       "<AxesSubplot:xlabel='LoanAmount'>"
      ]
     },
     "execution_count": 43,
     "metadata": {},
     "output_type": "execute_result"
    },
    {
     "data": {
      "image/png": "[encoded data removed]",
      "text/plain": [
       "<Figure size 432x288 with 1 Axes>"
      ]
     },
     "metadata": {
      "needs_background": "light"
     },
     "output_type": "display_data"
    }
   ],
   "source": [
    "sns.boxplot(Loan_Dataset['LoanAmount'])"
   ]
  },
  {
   "cell_type": "markdown",
   "id": "910fa31d",
   "metadata": {},
   "source": [
    "#### seems to outlier but it is possible that need of large amount is not approved for them so it better to dont not to treat outliers just tarnsform the skewness"
   ]
  },
  {
   "cell_type": "code",
   "execution_count": 44,
   "id": "c859e32d",
   "metadata": {},
   "outputs": [
    {
     "data": {
      "text/plain": [
       "ApplicantIncome      6.539513\n",
       "CoapplicantIncome    7.491531\n",
       "LoanAmount           2.726601\n",
       "Loan_Amount_Term    -2.389680\n",
       "Credit_History      -2.021971\n",
       "dtype: float64"
      ]
     },
     "execution_count": 44,
     "metadata": {},
     "output_type": "execute_result"
    }
   ],
   "source": [
    "Loan_Dataset.skew()"
   ]
  },
  {
   "cell_type": "code",
   "execution_count": 45,
   "id": "b56df620",
   "metadata": {},
   "outputs": [],
   "source": [
    "Loan_Dataset['LoanAmount']=np.log(Loan_Dataset['LoanAmount'])"
   ]
  },
  {
   "cell_type": "code",
   "execution_count": 46,
   "id": "6eb8fdd4",
   "metadata": {},
   "outputs": [
    {
     "data": {
      "text/plain": [
       "<AxesSubplot:>"
      ]
     },
     "execution_count": 46,
     "metadata": {},
     "output_type": "execute_result"
    },
    {
     "data": {
      "image/png": "[encoded data removed]",
      "text/plain": [
       "<Figure size 432x288 with 1 Axes>"
      ]
     },
     "metadata": {
      "needs_background": "light"
     },
     "output_type": "display_data"
    }
   ],
   "source": [
    "Loan_Dataset['LoanAmount'].hist(bins=20)"
   ]
  },
  {
   "cell_type": "code",
   "execution_count": 47,
   "id": "bb21c8c9",
   "metadata": {},
   "outputs": [],
   "source": [
    "#### Noraml DIstibution "
   ]
  },
  {
   "cell_type": "code",
   "execution_count": 48,
   "id": "2107d01d",
   "metadata": {},
   "outputs": [],
   "source": [
    "Loan_Dataset['Total_income']=Loan_Dataset['ApplicantIncome'] + Loan_Dataset['CoapplicantIncome']"
   ]
  },
  {
   "cell_type": "code",
   "execution_count": 49,
   "id": "6b3f2855",
   "metadata": {},
   "outputs": [],
   "source": [
    "Loan_Dataset.drop(['ApplicantIncome','CoapplicantIncome'],axis=1,inplace=True)"
   ]
  },
  {
   "cell_type": "code",
   "execution_count": 50,
   "id": "5b4b24ba",
   "metadata": {},
   "outputs": [
    {
     "data": {
      "text/plain": [
       "LoanAmount         -0.223227\n",
       "Loan_Amount_Term   -2.389680\n",
       "Credit_History     -2.021971\n",
       "Total_income        5.633449\n",
       "dtype: float64"
      ]
     },
     "execution_count": 50,
     "metadata": {},
     "output_type": "execute_result"
    }
   ],
   "source": [
    "Loan_Dataset.skew()"
   ]
  },
  {
   "cell_type": "code",
   "execution_count": 51,
   "id": "4d53ede5",
   "metadata": {},
   "outputs": [
    {
     "data": {
      "text/plain": [
       "<AxesSubplot:>"
      ]
     },
     "execution_count": 51,
     "metadata": {},
     "output_type": "execute_result"
    },
    {
     "data": {
      "image/png": "[encoded data removed]",
      "text/plain": [
       "<Figure size 432x288 with 1 Axes>"
      ]
     },
     "metadata": {
      "needs_background": "light"
     },
     "output_type": "display_data"
    }
   ],
   "source": [
    "Loan_Dataset['Total_income'].hist()"
   ]
  },
  {
   "cell_type": "code",
   "execution_count": 52,
   "id": "07b684fc",
   "metadata": {},
   "outputs": [],
   "source": [
    "#### seemms to be right skeweed"
   ]
  },
  {
   "cell_type": "code",
   "execution_count": 53,
   "id": "db2f9698",
   "metadata": {},
   "outputs": [],
   "source": [
    "Loan_Dataset['Total_income']=np.log(Loan_Dataset['Total_income'])"
   ]
  },
  {
   "cell_type": "code",
   "execution_count": 54,
   "id": "3fc4c846",
   "metadata": {},
   "outputs": [
    {
     "data": {
      "text/plain": [
       "<AxesSubplot:>"
      ]
     },
     "execution_count": 54,
     "metadata": {},
     "output_type": "execute_result"
    },
    {
     "data": {
      "image/png": "[encoded data removed]",
      "text/plain": [
       "<Figure size 432x288 with 1 Axes>"
      ]
     },
     "metadata": {
      "needs_background": "light"
     },
     "output_type": "display_data"
    }
   ],
   "source": [
    "Loan_Dataset['Total_income'].hist()"
   ]
  },
  {
   "cell_type": "markdown",
   "id": "242315f9",
   "metadata": {},
   "source": [
    "# Step 7 Normal Distribution"
   ]
  },
  {
   "cell_type": "code",
   "execution_count": 55,
   "id": "d23f4c72",
   "metadata": {},
   "outputs": [],
   "source": [
    "##### Scaling Techniques\n",
    "from sklearn.preprocessing import LabelEncoder\n",
    "le=LabelEncoder()"
   ]
  },
  {
   "cell_type": "code",
   "execution_count": 56,
   "id": "c5711047",
   "metadata": {},
   "outputs": [],
   "source": [
    "# Convert all non-numeric values to number\n",
    "cat=['Gender','Married','Dependents','Education','Self_Employed','Credit_History','Property_Area']\n",
    "Loan_Dataset['Gender']=le.fit_transform(Loan_Dataset['Gender'])\n",
    "Loan_Dataset['Married']=le.fit_transform(Loan_Dataset['Married'])\n",
    "Loan_Dataset['Dependents']=le.fit_transform(Loan_Dataset['Dependents'])\n",
    "Loan_Dataset['Education']=le.fit_transform(Loan_Dataset['Education'])\n",
    "Loan_Dataset['Self_Employed']=le.fit_transform(Loan_Dataset['Self_Employed'])\n",
    "Loan_Dataset['Credit_History']=le.fit_transform(Loan_Dataset['Credit_History'])\n",
    "Loan_Dataset['Property_Area']=le.fit_transform(Loan_Dataset['Property_Area'])"
   ]
  },
  {
   "cell_type": "code",
   "execution_count": null,
   "id": "567c2a39",
   "metadata": {},
   "outputs": [],
   "source": []
  },
  {
   "cell_type": "code",
   "execution_count": 57,
   "id": "5a50d4c0",
   "metadata": {},
   "outputs": [
    {
     "data": {
      "text/html": [
       "<div>\n",
       "<style scoped>\n",
       "    .dataframe tbody tr th:only-of-type {\n",
       "        vertical-align: middle;\n",
       "    }\n",
       "\n",
       "    .dataframe tbody tr th {\n",
       "        vertical-align: top;\n",
       "    }\n",
       "\n",
       "    .dataframe thead th {\n",
       "        text-align: right;\n",
       "    }\n",
       "</style>\n",
       "<table border=\"1\" class=\"dataframe\">\n",
       "  <thead>\n",
       "    <tr style=\"text-align: right;\">\n",
       "      <th></th>\n",
       "      <th>Loan_ID</th>\n",
       "      <th>Gender</th>\n",
       "      <th>Married</th>\n",
       "      <th>Dependents</th>\n",
       "      <th>Education</th>\n",
       "      <th>Self_Employed</th>\n",
       "      <th>LoanAmount</th>\n",
       "      <th>Loan_Amount_Term</th>\n",
       "      <th>Credit_History</th>\n",
       "      <th>Property_Area</th>\n",
       "      <th>Loan_Status</th>\n",
       "      <th>Total_income</th>\n",
       "    </tr>\n",
       "  </thead>\n",
       "  <tbody>\n",
       "    <tr>\n",
       "      <th>0</th>\n",
       "      <td>LP001002</td>\n",
       "      <td>1</td>\n",
       "      <td>0</td>\n",
       "      <td>0</td>\n",
       "      <td>0</td>\n",
       "      <td>0</td>\n",
       "      <td>4.986426</td>\n",
       "      <td>360.0</td>\n",
       "      <td>1</td>\n",
       "      <td>2</td>\n",
       "      <td>Y</td>\n",
       "      <td>8.674026</td>\n",
       "    </tr>\n",
       "    <tr>\n",
       "      <th>1</th>\n",
       "      <td>LP001003</td>\n",
       "      <td>1</td>\n",
       "      <td>1</td>\n",
       "      <td>1</td>\n",
       "      <td>0</td>\n",
       "      <td>0</td>\n",
       "      <td>4.852030</td>\n",
       "      <td>360.0</td>\n",
       "      <td>1</td>\n",
       "      <td>0</td>\n",
       "      <td>N</td>\n",
       "      <td>8.714568</td>\n",
       "    </tr>\n",
       "    <tr>\n",
       "      <th>2</th>\n",
       "      <td>LP001005</td>\n",
       "      <td>1</td>\n",
       "      <td>1</td>\n",
       "      <td>0</td>\n",
       "      <td>0</td>\n",
       "      <td>1</td>\n",
       "      <td>4.189655</td>\n",
       "      <td>360.0</td>\n",
       "      <td>1</td>\n",
       "      <td>2</td>\n",
       "      <td>Y</td>\n",
       "      <td>8.006368</td>\n",
       "    </tr>\n",
       "    <tr>\n",
       "      <th>3</th>\n",
       "      <td>LP001006</td>\n",
       "      <td>1</td>\n",
       "      <td>1</td>\n",
       "      <td>0</td>\n",
       "      <td>1</td>\n",
       "      <td>0</td>\n",
       "      <td>4.787492</td>\n",
       "      <td>360.0</td>\n",
       "      <td>1</td>\n",
       "      <td>2</td>\n",
       "      <td>Y</td>\n",
       "      <td>8.505323</td>\n",
       "    </tr>\n",
       "    <tr>\n",
       "      <th>4</th>\n",
       "      <td>LP001008</td>\n",
       "      <td>1</td>\n",
       "      <td>0</td>\n",
       "      <td>0</td>\n",
       "      <td>0</td>\n",
       "      <td>0</td>\n",
       "      <td>4.948760</td>\n",
       "      <td>360.0</td>\n",
       "      <td>1</td>\n",
       "      <td>2</td>\n",
       "      <td>Y</td>\n",
       "      <td>8.699515</td>\n",
       "    </tr>\n",
       "    <tr>\n",
       "      <th>...</th>\n",
       "      <td>...</td>\n",
       "      <td>...</td>\n",
       "      <td>...</td>\n",
       "      <td>...</td>\n",
       "      <td>...</td>\n",
       "      <td>...</td>\n",
       "      <td>...</td>\n",
       "      <td>...</td>\n",
       "      <td>...</td>\n",
       "      <td>...</td>\n",
       "      <td>...</td>\n",
       "      <td>...</td>\n",
       "    </tr>\n",
       "    <tr>\n",
       "      <th>609</th>\n",
       "      <td>LP002978</td>\n",
       "      <td>0</td>\n",
       "      <td>0</td>\n",
       "      <td>0</td>\n",
       "      <td>0</td>\n",
       "      <td>0</td>\n",
       "      <td>4.262680</td>\n",
       "      <td>360.0</td>\n",
       "      <td>1</td>\n",
       "      <td>0</td>\n",
       "      <td>Y</td>\n",
       "      <td>7.972466</td>\n",
       "    </tr>\n",
       "    <tr>\n",
       "      <th>610</th>\n",
       "      <td>LP002979</td>\n",
       "      <td>1</td>\n",
       "      <td>1</td>\n",
       "      <td>3</td>\n",
       "      <td>0</td>\n",
       "      <td>0</td>\n",
       "      <td>3.688879</td>\n",
       "      <td>180.0</td>\n",
       "      <td>1</td>\n",
       "      <td>0</td>\n",
       "      <td>Y</td>\n",
       "      <td>8.320205</td>\n",
       "    </tr>\n",
       "    <tr>\n",
       "      <th>611</th>\n",
       "      <td>LP002983</td>\n",
       "      <td>1</td>\n",
       "      <td>1</td>\n",
       "      <td>1</td>\n",
       "      <td>0</td>\n",
       "      <td>0</td>\n",
       "      <td>5.533389</td>\n",
       "      <td>360.0</td>\n",
       "      <td>1</td>\n",
       "      <td>2</td>\n",
       "      <td>Y</td>\n",
       "      <td>9.025456</td>\n",
       "    </tr>\n",
       "    <tr>\n",
       "      <th>612</th>\n",
       "      <td>LP002984</td>\n",
       "      <td>1</td>\n",
       "      <td>1</td>\n",
       "      <td>2</td>\n",
       "      <td>0</td>\n",
       "      <td>0</td>\n",
       "      <td>5.231109</td>\n",
       "      <td>360.0</td>\n",
       "      <td>1</td>\n",
       "      <td>2</td>\n",
       "      <td>Y</td>\n",
       "      <td>8.933664</td>\n",
       "    </tr>\n",
       "    <tr>\n",
       "      <th>613</th>\n",
       "      <td>LP002990</td>\n",
       "      <td>0</td>\n",
       "      <td>0</td>\n",
       "      <td>0</td>\n",
       "      <td>0</td>\n",
       "      <td>1</td>\n",
       "      <td>4.890349</td>\n",
       "      <td>360.0</td>\n",
       "      <td>0</td>\n",
       "      <td>1</td>\n",
       "      <td>N</td>\n",
       "      <td>8.430109</td>\n",
       "    </tr>\n",
       "  </tbody>\n",
       "</table>\n",
       "<p>614 rows × 12 columns</p>\n",
       "</div>"
      ],
      "text/plain": [
       "      Loan_ID  Gender  Married  Dependents  Education  Self_Employed  \\\n",
       "0    LP001002       1        0           0          0              0   \n",
       "1    LP001003       1        1           1          0              0   \n",
       "2    LP001005       1        1           0          0              1   \n",
       "3    LP001006       1        1           0          1              0   \n",
       "4    LP001008       1        0           0          0              0   \n",
       "..        ...     ...      ...         ...        ...            ...   \n",
       "609  LP002978       0        0           0          0              0   \n",
       "610  LP002979       1        1           3          0              0   \n",
       "611  LP002983       1        1           1          0              0   \n",
       "612  LP002984       1        1           2          0              0   \n",
       "613  LP002990       0        0           0          0              1   \n",
       "\n",
       "     LoanAmount  Loan_Amount_Term  Credit_History  Property_Area Loan_Status  \\\n",
       "0      4.986426             360.0               1              2           Y   \n",
       "1      4.852030             360.0               1              0           N   \n",
       "2      4.189655             360.0               1              2           Y   \n",
       "3      4.787492             360.0               1              2           Y   \n",
       "4      4.948760             360.0               1              2           Y   \n",
       "..          ...               ...             ...            ...         ...   \n",
       "609    4.262680             360.0               1              0           Y   \n",
       "610    3.688879             180.0               1              0           Y   \n",
       "611    5.533389             360.0               1              2           Y   \n",
       "612    5.231109             360.0               1              2           Y   \n",
       "613    4.890349             360.0               0              1           N   \n",
       "\n",
       "     Total_income  \n",
       "0        8.674026  \n",
       "1        8.714568  \n",
       "2        8.006368  \n",
       "3        8.505323  \n",
       "4        8.699515  \n",
       "..            ...  \n",
       "609      7.972466  \n",
       "610      8.320205  \n",
       "611      9.025456  \n",
       "612      8.933664  \n",
       "613      8.430109  \n",
       "\n",
       "[614 rows x 12 columns]"
      ]
     },
     "execution_count": 57,
     "metadata": {},
     "output_type": "execute_result"
    }
   ],
   "source": [
    "Loan_Dataset"
   ]
  },
  {
   "cell_type": "code",
   "execution_count": 58,
   "id": "aa6c90fa",
   "metadata": {},
   "outputs": [
    {
     "data": {
      "text/plain": [
       "Loan_ID              object\n",
       "Gender                int32\n",
       "Married               int32\n",
       "Dependents            int32\n",
       "Education             int32\n",
       "Self_Employed         int32\n",
       "LoanAmount          float64\n",
       "Loan_Amount_Term    float64\n",
       "Credit_History        int64\n",
       "Property_Area         int32\n",
       "Loan_Status          object\n",
       "Total_income        float64\n",
       "dtype: object"
      ]
     },
     "execution_count": 58,
     "metadata": {},
     "output_type": "execute_result"
    }
   ],
   "source": [
    "Loan_Dataset.dtypes"
   ]
  },
  {
   "cell_type": "code",
   "execution_count": 59,
   "id": "581012da",
   "metadata": {},
   "outputs": [],
   "source": [
    "Loan_Dataset['Loan_Status']=le.fit_transform(Loan_Dataset['Loan_Status'])"
   ]
  },
  {
   "cell_type": "code",
   "execution_count": 60,
   "id": "b8d7cf99",
   "metadata": {},
   "outputs": [],
   "source": [
    "####\n",
    "Loan_Dataset.drop(['Loan_ID'],axis=1,inplace=True)"
   ]
  },
  {
   "cell_type": "code",
   "execution_count": 61,
   "id": "7e26ef74",
   "metadata": {},
   "outputs": [
    {
     "data": {
      "text/html": [
       "<div>\n",
       "<style scoped>\n",
       "    .dataframe tbody tr th:only-of-type {\n",
       "        vertical-align: middle;\n",
       "    }\n",
       "\n",
       "    .dataframe tbody tr th {\n",
       "        vertical-align: top;\n",
       "    }\n",
       "\n",
       "    .dataframe thead th {\n",
       "        text-align: right;\n",
       "    }\n",
       "</style>\n",
       "<table border=\"1\" class=\"dataframe\">\n",
       "  <thead>\n",
       "    <tr style=\"text-align: right;\">\n",
       "      <th></th>\n",
       "      <th>Gender</th>\n",
       "      <th>Married</th>\n",
       "      <th>Dependents</th>\n",
       "      <th>Education</th>\n",
       "      <th>Self_Employed</th>\n",
       "      <th>LoanAmount</th>\n",
       "      <th>Loan_Amount_Term</th>\n",
       "      <th>Credit_History</th>\n",
       "      <th>Property_Area</th>\n",
       "      <th>Loan_Status</th>\n",
       "      <th>Total_income</th>\n",
       "    </tr>\n",
       "  </thead>\n",
       "  <tbody>\n",
       "    <tr>\n",
       "      <th>0</th>\n",
       "      <td>1</td>\n",
       "      <td>0</td>\n",
       "      <td>0</td>\n",
       "      <td>0</td>\n",
       "      <td>0</td>\n",
       "      <td>4.986426</td>\n",
       "      <td>360.0</td>\n",
       "      <td>1</td>\n",
       "      <td>2</td>\n",
       "      <td>1</td>\n",
       "      <td>8.674026</td>\n",
       "    </tr>\n",
       "    <tr>\n",
       "      <th>1</th>\n",
       "      <td>1</td>\n",
       "      <td>1</td>\n",
       "      <td>1</td>\n",
       "      <td>0</td>\n",
       "      <td>0</td>\n",
       "      <td>4.852030</td>\n",
       "      <td>360.0</td>\n",
       "      <td>1</td>\n",
       "      <td>0</td>\n",
       "      <td>0</td>\n",
       "      <td>8.714568</td>\n",
       "    </tr>\n",
       "    <tr>\n",
       "      <th>2</th>\n",
       "      <td>1</td>\n",
       "      <td>1</td>\n",
       "      <td>0</td>\n",
       "      <td>0</td>\n",
       "      <td>1</td>\n",
       "      <td>4.189655</td>\n",
       "      <td>360.0</td>\n",
       "      <td>1</td>\n",
       "      <td>2</td>\n",
       "      <td>1</td>\n",
       "      <td>8.006368</td>\n",
       "    </tr>\n",
       "    <tr>\n",
       "      <th>3</th>\n",
       "      <td>1</td>\n",
       "      <td>1</td>\n",
       "      <td>0</td>\n",
       "      <td>1</td>\n",
       "      <td>0</td>\n",
       "      <td>4.787492</td>\n",
       "      <td>360.0</td>\n",
       "      <td>1</td>\n",
       "      <td>2</td>\n",
       "      <td>1</td>\n",
       "      <td>8.505323</td>\n",
       "    </tr>\n",
       "    <tr>\n",
       "      <th>4</th>\n",
       "      <td>1</td>\n",
       "      <td>0</td>\n",
       "      <td>0</td>\n",
       "      <td>0</td>\n",
       "      <td>0</td>\n",
       "      <td>4.948760</td>\n",
       "      <td>360.0</td>\n",
       "      <td>1</td>\n",
       "      <td>2</td>\n",
       "      <td>1</td>\n",
       "      <td>8.699515</td>\n",
       "    </tr>\n",
       "    <tr>\n",
       "      <th>...</th>\n",
       "      <td>...</td>\n",
       "      <td>...</td>\n",
       "      <td>...</td>\n",
       "      <td>...</td>\n",
       "      <td>...</td>\n",
       "      <td>...</td>\n",
       "      <td>...</td>\n",
       "      <td>...</td>\n",
       "      <td>...</td>\n",
       "      <td>...</td>\n",
       "      <td>...</td>\n",
       "    </tr>\n",
       "    <tr>\n",
       "      <th>609</th>\n",
       "      <td>0</td>\n",
       "      <td>0</td>\n",
       "      <td>0</td>\n",
       "      <td>0</td>\n",
       "      <td>0</td>\n",
       "      <td>4.262680</td>\n",
       "      <td>360.0</td>\n",
       "      <td>1</td>\n",
       "      <td>0</td>\n",
       "      <td>1</td>\n",
       "      <td>7.972466</td>\n",
       "    </tr>\n",
       "    <tr>\n",
       "      <th>610</th>\n",
       "      <td>1</td>\n",
       "      <td>1</td>\n",
       "      <td>3</td>\n",
       "      <td>0</td>\n",
       "      <td>0</td>\n",
       "      <td>3.688879</td>\n",
       "      <td>180.0</td>\n",
       "      <td>1</td>\n",
       "      <td>0</td>\n",
       "      <td>1</td>\n",
       "      <td>8.320205</td>\n",
       "    </tr>\n",
       "    <tr>\n",
       "      <th>611</th>\n",
       "      <td>1</td>\n",
       "      <td>1</td>\n",
       "      <td>1</td>\n",
       "      <td>0</td>\n",
       "      <td>0</td>\n",
       "      <td>5.533389</td>\n",
       "      <td>360.0</td>\n",
       "      <td>1</td>\n",
       "      <td>2</td>\n",
       "      <td>1</td>\n",
       "      <td>9.025456</td>\n",
       "    </tr>\n",
       "    <tr>\n",
       "      <th>612</th>\n",
       "      <td>1</td>\n",
       "      <td>1</td>\n",
       "      <td>2</td>\n",
       "      <td>0</td>\n",
       "      <td>0</td>\n",
       "      <td>5.231109</td>\n",
       "      <td>360.0</td>\n",
       "      <td>1</td>\n",
       "      <td>2</td>\n",
       "      <td>1</td>\n",
       "      <td>8.933664</td>\n",
       "    </tr>\n",
       "    <tr>\n",
       "      <th>613</th>\n",
       "      <td>0</td>\n",
       "      <td>0</td>\n",
       "      <td>0</td>\n",
       "      <td>0</td>\n",
       "      <td>1</td>\n",
       "      <td>4.890349</td>\n",
       "      <td>360.0</td>\n",
       "      <td>0</td>\n",
       "      <td>1</td>\n",
       "      <td>0</td>\n",
       "      <td>8.430109</td>\n",
       "    </tr>\n",
       "  </tbody>\n",
       "</table>\n",
       "<p>614 rows × 11 columns</p>\n",
       "</div>"
      ],
      "text/plain": [
       "     Gender  Married  Dependents  Education  Self_Employed  LoanAmount  \\\n",
       "0         1        0           0          0              0    4.986426   \n",
       "1         1        1           1          0              0    4.852030   \n",
       "2         1        1           0          0              1    4.189655   \n",
       "3         1        1           0          1              0    4.787492   \n",
       "4         1        0           0          0              0    4.948760   \n",
       "..      ...      ...         ...        ...            ...         ...   \n",
       "609       0        0           0          0              0    4.262680   \n",
       "610       1        1           3          0              0    3.688879   \n",
       "611       1        1           1          0              0    5.533389   \n",
       "612       1        1           2          0              0    5.231109   \n",
       "613       0        0           0          0              1    4.890349   \n",
       "\n",
       "     Loan_Amount_Term  Credit_History  Property_Area  Loan_Status  \\\n",
       "0               360.0               1              2            1   \n",
       "1               360.0               1              0            0   \n",
       "2               360.0               1              2            1   \n",
       "3               360.0               1              2            1   \n",
       "4               360.0               1              2            1   \n",
       "..                ...             ...            ...          ...   \n",
       "609             360.0               1              0            1   \n",
       "610             180.0               1              0            1   \n",
       "611             360.0               1              2            1   \n",
       "612             360.0               1              2            1   \n",
       "613             360.0               0              1            0   \n",
       "\n",
       "     Total_income  \n",
       "0        8.674026  \n",
       "1        8.714568  \n",
       "2        8.006368  \n",
       "3        8.505323  \n",
       "4        8.699515  \n",
       "..            ...  \n",
       "609      7.972466  \n",
       "610      8.320205  \n",
       "611      9.025456  \n",
       "612      8.933664  \n",
       "613      8.430109  \n",
       "\n",
       "[614 rows x 11 columns]"
      ]
     },
     "execution_count": 61,
     "metadata": {},
     "output_type": "execute_result"
    }
   ],
   "source": [
    "Loan_Dataset"
   ]
  },
  {
   "cell_type": "markdown",
   "id": "f8a03730",
   "metadata": {},
   "source": [
    "# Step 8 : Training and Model Building"
   ]
  },
  {
   "cell_type": "code",
   "execution_count": 63,
   "id": "c2dea1e1",
   "metadata": {},
   "outputs": [],
   "source": [
    "##### split into target and feature\n",
    "x=Loan_Dataset.drop(['Loan_Status'],axis=1)\n",
    "y=Loan_Dataset['Loan_Status']"
   ]
  },
  {
   "cell_type": "code",
   "execution_count": 64,
   "id": "fded9e31",
   "metadata": {},
   "outputs": [],
   "source": [
    "from sklearn.model_selection import train_test_split\n",
    "X_train,X_test,y_train,y_test=train_test_split(x,y,test_size=0.25,random_state=0)\n",
    "from sklearn.metrics import accuracy_score,confusion_matrix,classification_report"
   ]
  },
  {
   "cell_type": "code",
   "execution_count": 65,
   "id": "ad9794bc",
   "metadata": {},
   "outputs": [
    {
     "data": {
      "text/plain": [
       "LogisticRegression(random_state=0)"
      ]
     },
     "execution_count": 65,
     "metadata": {},
     "output_type": "execute_result"
    }
   ],
   "source": [
    "from sklearn.linear_model import LogisticRegression\n",
    "classifier = LogisticRegression(random_state = 0)\n",
    "classifier.fit(X_train, y_train)"
   ]
  },
  {
   "cell_type": "code",
   "execution_count": 66,
   "id": "b5c2b43c",
   "metadata": {},
   "outputs": [
    {
     "name": "stdout",
     "output_type": "stream",
     "text": [
      "Best accuracy - 0.8701298701298701 Best Random state =  1\n"
     ]
    }
   ],
   "source": [
    "maxAcc=0\n",
    "maxRs=0\n",
    "for i in range(1,200):\n",
    "    x_train,x_test,y_train,y_test=train_test_split(x,y,test_size=0.25,random_state=i)\n",
    "    classifier=LogisticRegression()\n",
    "    classifier.fit(x_train,y_train)\n",
    "    pred=classifier.predict(x_test)\n",
    "    accu=accuracy_score(y_test,pred)\n",
    "    if accu>maxAcc:\n",
    "        maxAcc=accu\n",
    "        maxRs=1\n",
    "print(\"Best accuracy -\",maxAcc,'Best Random state = ',maxRs)"
   ]
  },
  {
   "cell_type": "code",
   "execution_count": 67,
   "id": "48e33aee",
   "metadata": {},
   "outputs": [],
   "source": [
    "from sklearn.ensemble import RandomForestClassifier\n",
    "from sklearn.ensemble import ExtraTreesClassifier\n",
    "from sklearn.ensemble import AdaBoostClassifier"
   ]
  },
  {
   "cell_type": "code",
   "execution_count": 68,
   "id": "58a1b56c",
   "metadata": {},
   "outputs": [
    {
     "name": "stdout",
     "output_type": "stream",
     "text": [
      "Accuracy Score : 0.8051948051948052\n",
      "Classification Score :               precision    recall  f1-score   support\n",
      "\n",
      "           0       0.91      0.43      0.58        49\n",
      "           1       0.79      0.98      0.87       105\n",
      "\n",
      "    accuracy                           0.81       154\n",
      "   macro avg       0.85      0.70      0.73       154\n",
      "weighted avg       0.83      0.81      0.78       154\n",
      "\n",
      "confusion Matrix : [[ 21  28]\n",
      " [  2 103]]\n"
     ]
    }
   ],
   "source": [
    "lr=LogisticRegression()\n",
    "lr.fit(x_train,y_train)\n",
    "pred=lr.predict(x_test)\n",
    "accu=accuracy_score(y_test,pred)\n",
    "classification_score=classification_report(y_test,pred)\n",
    "confusion_matrix = confusion_matrix(y_test,pred)\n",
    "print('Accuracy Score :', accu)\n",
    "print('Classification Score :', classification_score)\n",
    "print('confusion Matrix :', confusion_matrix)"
   ]
  },
  {
   "cell_type": "code",
   "execution_count": 69,
   "id": "5163359b",
   "metadata": {},
   "outputs": [
    {
     "name": "stdout",
     "output_type": "stream",
     "text": [
      "Accuracy Score : 0.6753246753246753\n",
      "Classification Score :               precision    recall  f1-score   support\n",
      "\n",
      "           0       0.49      0.49      0.49        49\n",
      "           1       0.76      0.76      0.76       105\n",
      "\n",
      "    accuracy                           0.68       154\n",
      "   macro avg       0.63      0.63      0.63       154\n",
      "weighted avg       0.68      0.68      0.68       154\n",
      "\n"
     ]
    }
   ],
   "source": [
    "from sklearn.tree import DecisionTreeClassifier\n",
    "DTC=DecisionTreeClassifier()\n",
    "DTC.fit(x_train,y_train)\n",
    "pred=DTC.predict(x_test)\n",
    "accu=accuracy_score(y_test,pred)\n",
    "classification_score=classification_report(y_test,pred)\n",
    "#confusion_matrix = confusion_matrix(y_test,pred)\n",
    "print('Accuracy Score :', accu)\n",
    "print('Classification Score :', classification_score)\n",
    "#print('confusion Matrix :', confusion_matrix)"
   ]
  },
  {
   "cell_type": "code",
   "execution_count": 70,
   "id": "dbbe30bb",
   "metadata": {},
   "outputs": [
    {
     "name": "stdout",
     "output_type": "stream",
     "text": [
      "Accuracy Score : 0.7597402597402597\n",
      "Classification Score :               precision    recall  f1-score   support\n",
      "\n",
      "           0       0.70      0.43      0.53        49\n",
      "           1       0.77      0.91      0.84       105\n",
      "\n",
      "    accuracy                           0.76       154\n",
      "   macro avg       0.74      0.67      0.69       154\n",
      "weighted avg       0.75      0.76      0.74       154\n",
      "\n"
     ]
    }
   ],
   "source": [
    "RF=RandomForestClassifier(n_estimators=100)\n",
    "RF.fit(x_train,y_train)\n",
    "pred=RF.predict(x_test)\n",
    "accu=accuracy_score(y_test,pred)\n",
    "classification_score=classification_report(y_test,pred)\n",
    "\n",
    "print('Accuracy Score :', accu)\n",
    "print('Classification Score :', classification_score)"
   ]
  },
  {
   "cell_type": "code",
   "execution_count": 71,
   "id": "6d5626ad",
   "metadata": {},
   "outputs": [
    {
     "name": "stdout",
     "output_type": "stream",
     "text": [
      "Accuracy Score : 0.8181818181818182\n",
      "Classification Score :               precision    recall  f1-score   support\n",
      "\n",
      "           0       0.82      0.55      0.66        49\n",
      "           1       0.82      0.94      0.88       105\n",
      "\n",
      "    accuracy                           0.82       154\n",
      "   macro avg       0.82      0.75      0.77       154\n",
      "weighted avg       0.82      0.82      0.81       154\n",
      "\n"
     ]
    }
   ],
   "source": [
    "AD=AdaBoostClassifier(n_estimators=100)\n",
    "AD.fit(x_train,y_train)\n",
    "pred=AD.predict(x_test)\n",
    "accu=accuracy_score(y_test,pred)\n",
    "classification_score=classification_report(y_test,pred)\n",
    "\n",
    "print('Accuracy Score :', accu)\n",
    "print('Classification Score :', classification_score)"
   ]
  },
  {
   "cell_type": "code",
   "execution_count": 72,
   "id": "78201c1f",
   "metadata": {},
   "outputs": [
    {
     "name": "stdout",
     "output_type": "stream",
     "text": [
      "Accuracy Score : 0.7467532467532467\n",
      "Classification Score :               precision    recall  f1-score   support\n",
      "\n",
      "           0       0.63      0.49      0.55        49\n",
      "           1       0.78      0.87      0.82       105\n",
      "\n",
      "    accuracy                           0.75       154\n",
      "   macro avg       0.71      0.68      0.69       154\n",
      "weighted avg       0.74      0.75      0.74       154\n",
      "\n"
     ]
    }
   ],
   "source": [
    "ETC=ExtraTreesClassifier()\n",
    "ETC.fit(x_train,y_train)\n",
    "pred=ETC.predict(x_test)\n",
    "accu=accuracy_score(y_test,pred)\n",
    "classification_score=classification_report(y_test,pred)\n",
    "\n",
    "print('Accuracy Score :', accu)\n",
    "print('Classification Score :', classification_score)"
   ]
  },
  {
   "cell_type": "code",
   "execution_count": 73,
   "id": "2cbf8359",
   "metadata": {},
   "outputs": [],
   "source": [
    "#### Cross Validation\n",
    "from sklearn.model_selection import cross_val_score"
   ]
  },
  {
   "cell_type": "code",
   "execution_count": 74,
   "id": "5c23065b",
   "metadata": {},
   "outputs": [
    {
     "name": "stdout",
     "output_type": "stream",
     "text": [
      "Decission Tree : 0.6889510862321738\n"
     ]
    }
   ],
   "source": [
    "print('Decission Tree :',cross_val_score(DTC,x,y,cv=5).mean())"
   ]
  },
  {
   "cell_type": "code",
   "execution_count": 75,
   "id": "b5129eb6",
   "metadata": {},
   "outputs": [
    {
     "name": "stdout",
     "output_type": "stream",
     "text": [
      "Random Forest : 0.7769159003065441\n"
     ]
    }
   ],
   "source": [
    "print('Random Forest :',cross_val_score(RF,x,y,cv=5).mean())"
   ]
  },
  {
   "cell_type": "code",
   "execution_count": 76,
   "id": "1eb59f77",
   "metadata": {},
   "outputs": [
    {
     "name": "stdout",
     "output_type": "stream",
     "text": [
      "Logistic Regression:  0.809462881514061\n"
     ]
    }
   ],
   "source": [
    "print('Logistic Regression: ',cross_val_score(classifier,x,y,cv=5).mean())"
   ]
  },
  {
   "cell_type": "code",
   "execution_count": 77,
   "id": "b9c7d2c7",
   "metadata": {},
   "outputs": [
    {
     "name": "stdout",
     "output_type": "stream",
     "text": [
      "Adaboost Tree  : 0.783406637345062\n"
     ]
    }
   ],
   "source": [
    "print('Adaboost Tree  :',cross_val_score(AD,x,y,cv=5).mean())"
   ]
  },
  {
   "cell_type": "code",
   "execution_count": 78,
   "id": "7bb0abee",
   "metadata": {},
   "outputs": [
    {
     "name": "stdout",
     "output_type": "stream",
     "text": [
      "Extra Tree  CLassifier: 0.74922031187525\n"
     ]
    }
   ],
   "source": [
    "print('Extra Tree  CLassifier:',cross_val_score(ETC,x,y,cv=5).mean())"
   ]
  },
  {
   "cell_type": "markdown",
   "id": "41ff0c61",
   "metadata": {},
   "source": [
    "Analysis: After trying different models i have found here that Logistic Regression works as best model ...."
   ]
  },
  {
   "cell_type": "markdown",
   "id": "dcac0cc7",
   "metadata": {},
   "source": [
    "# Step 9: lets Hyper tune the model for better accurracy"
   ]
  },
  {
   "cell_type": "code",
   "execution_count": 79,
   "id": "0261538d",
   "metadata": {},
   "outputs": [],
   "source": [
    "from sklearn.model_selection import GridSearchCV"
   ]
  },
  {
   "cell_type": "code",
   "execution_count": 80,
   "id": "5c0aeab6",
   "metadata": {},
   "outputs": [],
   "source": [
    "# Creating the hyperparameter grid\n",
    "c_space = np.logspace(-5, 8, 15)\n",
    "param_grid = {'C': c_space}"
   ]
  },
  {
   "cell_type": "code",
   "execution_count": 81,
   "id": "435ce409",
   "metadata": {},
   "outputs": [
    {
     "data": {
      "text/plain": [
       "GridSearchCV(cv=5, estimator=LogisticRegression(),\n",
       "             param_grid={'C': array([1.00000000e-05, 8.48342898e-05, 7.19685673e-04, 6.10540230e-03,\n",
       "       5.17947468e-02, 4.39397056e-01, 3.72759372e+00, 3.16227766e+01,\n",
       "       2.68269580e+02, 2.27584593e+03, 1.93069773e+04, 1.63789371e+05,\n",
       "       1.38949549e+06, 1.17876863e+07, 1.00000000e+08])})"
      ]
     },
     "execution_count": 81,
     "metadata": {},
     "output_type": "execute_result"
    }
   ],
   "source": [
    "GCV=GridSearchCV(LogisticRegression(),param_grid,cv=5)\n",
    "GCV.fit(x_train,y_train)\n"
   ]
  },
  {
   "cell_type": "code",
   "execution_count": 82,
   "id": "13ab63f7",
   "metadata": {},
   "outputs": [
    {
     "data": {
      "text/plain": [
       "{'C': 0.4393970560760795}"
      ]
     },
     "execution_count": 82,
     "metadata": {},
     "output_type": "execute_result"
    }
   ],
   "source": [
    "GCV.best_params_"
   ]
  },
  {
   "cell_type": "code",
   "execution_count": 83,
   "id": "e5948c7c",
   "metadata": {},
   "outputs": [
    {
     "name": "stdout",
     "output_type": "stream",
     "text": [
      "80.51948051948052\n"
     ]
    }
   ],
   "source": [
    "Final_model=LogisticRegression(C=0.4393970560760795)\n",
    "Final_model.fit(x_train,y_train)\n",
    "pred=Final_model.predict(x_test)\n",
    "accu=accuracy_score(y_test,pred)\n",
    "print(accu*100)"
   ]
  },
  {
   "cell_type": "code",
   "execution_count": 84,
   "id": "7d222afc",
   "metadata": {},
   "outputs": [],
   "source": [
    "##### Auc And Roc\n",
    "\n",
    "from sklearn.metrics import roc_curve\n",
    "import matplotlib.pyplot as plt\n",
    "\n",
    "from sklearn.metrics import roc_auc_score"
   ]
  },
  {
   "cell_type": "code",
   "execution_count": 85,
   "id": "dad44423",
   "metadata": {},
   "outputs": [],
   "source": [
    "y_pred_prob=lr.predict_proba(x_test)[:,1]"
   ]
  },
  {
   "cell_type": "code",
   "execution_count": 86,
   "id": "9c3cf715",
   "metadata": {},
   "outputs": [
    {
     "data": {
      "text/plain": [
       "array([0.76696421, 0.87991545, 0.75461527, 0.62045993, 0.71360122,\n",
       "       0.79791817, 0.74781906, 0.81735697, 0.80078135, 0.79529826,\n",
       "       0.80437255, 0.77100455, 0.7704308 , 0.16055628, 0.72727078,\n",
       "       0.85565164, 0.85432294, 0.87554114, 0.69296609, 0.15763411,\n",
       "       0.82389848, 0.68932259, 0.13250141, 0.81941669, 0.18113397,\n",
       "       0.80656373, 0.81167811, 0.79738637, 0.80605774, 0.81637137,\n",
       "       0.84207876, 0.68053139, 0.79776008, 0.81280176, 0.15978215,\n",
       "       0.82008647, 0.77350886, 0.74828274, 0.07407819, 0.67375729,\n",
       "       0.82684165, 0.76872886, 0.81795205, 0.87689469, 0.12015687,\n",
       "       0.70797113, 0.8162713 , 0.80812374, 0.08694226, 0.74236383,\n",
       "       0.73417331, 0.67044706, 0.80733737, 0.79625767, 0.86411474,\n",
       "       0.66198051, 0.71039815, 0.26764425, 0.62155314, 0.73775705,\n",
       "       0.86104217, 0.70864536, 0.68166783, 0.14950651, 0.81274644,\n",
       "       0.80238309, 0.75233153, 0.71066896, 0.77939794, 0.818668  ,\n",
       "       0.61150916, 0.7830279 , 0.79632874, 0.83587469, 0.65625765,\n",
       "       0.7860814 , 0.80256833, 0.15850759, 0.75216762, 0.76528956,\n",
       "       0.72880924, 0.80553739, 0.10933527, 0.71392376, 0.7838859 ,\n",
       "       0.76030169, 0.69869191, 0.73597145, 0.61349289, 0.83001512,\n",
       "       0.70603616, 0.85480791, 0.230862  , 0.75484814, 0.09748634,\n",
       "       0.85913517, 0.78528991, 0.82265165, 0.68877802, 0.71268915,\n",
       "       0.82809801, 0.83126803, 0.70051386, 0.81341236, 0.79641321,\n",
       "       0.83281003, 0.71411076, 0.77093158, 0.85155066, 0.67441785,\n",
       "       0.73820129, 0.84718443, 0.7715657 , 0.86042341, 0.7891445 ,\n",
       "       0.77169024, 0.85733271, 0.75515095, 0.11845923, 0.72178022,\n",
       "       0.69477053, 0.66307635, 0.78725226, 0.15611397, 0.77782045,\n",
       "       0.12699045, 0.74029227, 0.69756981, 0.06112464, 0.83957244,\n",
       "       0.83490996, 0.74293913, 0.67578834, 0.13468605, 0.69542855,\n",
       "       0.76375626, 0.82819852, 0.8098274 , 0.81943856, 0.70613764,\n",
       "       0.22651472, 0.09428436, 0.80858687, 0.86142655, 0.81987346,\n",
       "       0.83263941, 0.78415983, 0.83778484, 0.80343046, 0.61349241,\n",
       "       0.12142132, 0.63634185, 0.12725115, 0.6669502 ])"
      ]
     },
     "execution_count": 86,
     "metadata": {},
     "output_type": "execute_result"
    }
   ],
   "source": [
    "y_pred_prob"
   ]
  },
  {
   "cell_type": "code",
   "execution_count": 87,
   "id": "2d80df6d",
   "metadata": {},
   "outputs": [],
   "source": [
    "fpr,tpr,thresholds=roc_curve(y_test,y_pred_prob)"
   ]
  },
  {
   "cell_type": "code",
   "execution_count": 88,
   "id": "159c4965",
   "metadata": {},
   "outputs": [
    {
     "data": {
      "text/plain": [
       "array([0.        , 0.02040816, 0.02040816, 0.04081633, 0.04081633,\n",
       "       0.06122449, 0.06122449, 0.08163265, 0.08163265, 0.10204082,\n",
       "       0.10204082, 0.12244898, 0.12244898, 0.14285714, 0.14285714,\n",
       "       0.16326531, 0.16326531, 0.18367347, 0.18367347, 0.20408163,\n",
       "       0.20408163, 0.2244898 , 0.2244898 , 0.24489796, 0.24489796,\n",
       "       0.26530612, 0.26530612, 0.28571429, 0.28571429, 0.30612245,\n",
       "       0.30612245, 0.32653061, 0.32653061, 0.34693878, 0.34693878,\n",
       "       0.36734694, 0.36734694, 0.3877551 , 0.3877551 , 0.44897959,\n",
       "       0.44897959, 0.46938776, 0.46938776, 0.48979592, 0.48979592,\n",
       "       0.51020408, 0.51020408, 0.55102041, 0.55102041, 0.57142857,\n",
       "       0.57142857, 0.73469388, 0.73469388, 0.89795918, 0.89795918,\n",
       "       1.        ])"
      ]
     },
     "execution_count": 88,
     "metadata": {},
     "output_type": "execute_result"
    }
   ],
   "source": [
    "fpr"
   ]
  },
  {
   "cell_type": "code",
   "execution_count": 89,
   "id": "2b5497ca",
   "metadata": {},
   "outputs": [
    {
     "data": {
      "text/plain": [
       "array([0.        , 0.        , 0.01904762, 0.01904762, 0.04761905,\n",
       "       0.04761905, 0.06666667, 0.06666667, 0.12380952, 0.12380952,\n",
       "       0.16190476, 0.16190476, 0.19047619, 0.19047619, 0.32380952,\n",
       "       0.32380952, 0.48571429, 0.48571429, 0.52380952, 0.52380952,\n",
       "       0.53333333, 0.53333333, 0.59047619, 0.59047619, 0.61904762,\n",
       "       0.61904762, 0.62857143, 0.62857143, 0.63809524, 0.63809524,\n",
       "       0.66666667, 0.66666667, 0.68571429, 0.68571429, 0.73333333,\n",
       "       0.73333333, 0.74285714, 0.74285714, 0.75238095, 0.75238095,\n",
       "       0.76190476, 0.76190476, 0.83809524, 0.83809524, 0.86666667,\n",
       "       0.86666667, 0.88571429, 0.88571429, 0.95238095, 0.95238095,\n",
       "       0.98095238, 0.98095238, 0.99047619, 0.99047619, 1.        ,\n",
       "       1.        ])"
      ]
     },
     "execution_count": 89,
     "metadata": {},
     "output_type": "execute_result"
    }
   ],
   "source": [
    "tpr"
   ]
  },
  {
   "cell_type": "code",
   "execution_count": 90,
   "id": "234e72e5",
   "metadata": {},
   "outputs": [
    {
     "data": {
      "text/plain": [
       "array([1.87991545, 0.87991545, 0.87554114, 0.86411474, 0.86042341,\n",
       "       0.85913517, 0.85565164, 0.85480791, 0.83778484, 0.83587469,\n",
       "       0.83126803, 0.83001512, 0.82684165, 0.82389848, 0.81167811,\n",
       "       0.8098274 , 0.79625767, 0.79529826, 0.78528991, 0.78415983,\n",
       "       0.7838859 , 0.7830279 , 0.77100455, 0.77093158, 0.76696421,\n",
       "       0.76528956, 0.76375626, 0.76030169, 0.75515095, 0.75484814,\n",
       "       0.75216762, 0.74828274, 0.74293913, 0.74236383, 0.73417331,\n",
       "       0.72880924, 0.72727078, 0.72178022, 0.71411076, 0.71268915,\n",
       "       0.71066896, 0.71039815, 0.69542855, 0.69477053, 0.68877802,\n",
       "       0.68166783, 0.67578834, 0.67375729, 0.62155314, 0.62045993,\n",
       "       0.61150916, 0.15763411, 0.15611397, 0.11845923, 0.10933527,\n",
       "       0.06112464])"
      ]
     },
     "execution_count": 90,
     "metadata": {},
     "output_type": "execute_result"
    }
   ],
   "source": [
    "thresholds"
   ]
  },
  {
   "cell_type": "code",
   "execution_count": 91,
   "id": "84634281",
   "metadata": {},
   "outputs": [
    {
     "data": {
      "image/png": "[encoded data removed]",
      "text/plain": [
       "<Figure size 432x288 with 1 Axes>"
      ]
     },
     "metadata": {
      "needs_background": "light"
     },
     "output_type": "display_data"
    }
   ],
   "source": [
    "plt.plot([0,1],[0,1],'k--')\n",
    "plt.plot(fpr,tpr,label='Logistic Regression')\n",
    "plt.xlabel('False Positive rate')\n",
    "plt.ylabel('True Postive rate')\n",
    "plt.title('Logistic Regression')\n",
    "plt.show()\n"
   ]
  },
  {
   "cell_type": "code",
   "execution_count": 92,
   "id": "0d5c1d20",
   "metadata": {},
   "outputs": [],
   "source": [
    "auc_score=roc_auc_score(y_test,lr.predict(x_test))"
   ]
  },
  {
   "cell_type": "code",
   "execution_count": 103,
   "id": "fae5a91b",
   "metadata": {},
   "outputs": [
    {
     "data": {
      "text/plain": [
       "0.7047619047619047"
      ]
     },
     "execution_count": 103,
     "metadata": {},
     "output_type": "execute_result"
    }
   ],
   "source": [
    "auc_score"
   ]
  },
  {
   "cell_type": "code",
   "execution_count": 94,
   "id": "eae1a957",
   "metadata": {},
   "outputs": [],
   "source": [
    "from sklearn.metrics import f1_score,precision_score,recall_score,plot_confusion_matrix,plot_roc_curve,classification_report"
   ]
  },
  {
   "cell_type": "code",
   "execution_count": 95,
   "id": "71f7879d",
   "metadata": {},
   "outputs": [
    {
     "data": {
      "text/plain": [
       "<sklearn.metrics._plot.confusion_matrix.ConfusionMatrixDisplay at 0x1eab9cfb520>"
      ]
     },
     "execution_count": 95,
     "metadata": {},
     "output_type": "execute_result"
    },
    {
     "data": {
      "image/png": "[encoded data removed]",
      "text/plain": [
       "<Figure size 432x288 with 2 Axes>"
      ]
     },
     "metadata": {
      "needs_background": "light"
     },
     "output_type": "display_data"
    }
   ],
   "source": [
    "plot_confusion_matrix(Final_model,X_train,y_train)"
   ]
  },
  {
   "cell_type": "code",
   "execution_count": 97,
   "id": "3502de97",
   "metadata": {},
   "outputs": [
    {
     "data": {
      "text/plain": [
       "<sklearn.metrics._plot.roc_curve.RocCurveDisplay at 0x1eab9cc3640>"
      ]
     },
     "execution_count": 97,
     "metadata": {},
     "output_type": "execute_result"
    },
    {
     "data": {
      "image/png": "[encoded data removed]",
      "text/plain": [
       "<Figure size 432x288 with 1 Axes>"
      ]
     },
     "metadata": {
      "needs_background": "light"
     },
     "output_type": "display_data"
    }
   ],
   "source": [
    "plot_roc_curve(Final_model,X_train,y_train)"
   ]
  },
  {
   "cell_type": "code",
   "execution_count": 98,
   "id": "c2a8e661",
   "metadata": {},
   "outputs": [
    {
     "data": {
      "text/plain": [
       "[<matplotlib.lines.Line2D at 0x1eab9e37160>]"
      ]
     },
     "execution_count": 98,
     "metadata": {},
     "output_type": "execute_result"
    },
    {
     "data": {
      "image/png": "[encoded data removed]",
      "text/plain": [
       "<Figure size 432x288 with 1 Axes>"
      ]
     },
     "metadata": {
      "needs_background": "light"
     },
     "output_type": "display_data"
    }
   ],
   "source": [
    "plt.plot(y_train,y_train)"
   ]
  },
  {
   "cell_type": "markdown",
   "id": "48766204",
   "metadata": {},
   "source": [
    "# Step 10: Saving the model"
   ]
  },
  {
   "cell_type": "code",
   "execution_count": 100,
   "id": "b37d99c8",
   "metadata": {},
   "outputs": [
    {
     "data": {
      "text/plain": [
       "['loan_predictionproject.pkl']"
      ]
     },
     "execution_count": 100,
     "metadata": {},
     "output_type": "execute_result"
    }
   ],
   "source": [
    "## Saving the best model\n",
    "import joblib \n",
    "joblib.dump(Final_model,'loan_predictionproject.pkl')"
   ]
  },
  {
   "cell_type": "code",
   "execution_count": 101,
   "id": "6322387f",
   "metadata": {},
   "outputs": [],
   "source": [
    "mod = joblib.load('loan_predictionproject.pkl')"
   ]
  },
  {
   "cell_type": "code",
   "execution_count": 102,
   "id": "60072c94",
   "metadata": {},
   "outputs": [
    {
     "name": "stdout",
     "output_type": "stream",
     "text": [
      "[1 1 1 1 1 1 1 1 1 1 1 1 1 0 1 1 1 1 1 0 1 1 0 1 0 1 1 1 1 1 1 1 1 1 0 1 1\n",
      " 1 0 1 1 1 1 1 0 1 1 1 0 1 1 1 1 1 1 1 1 0 1 1 1 1 1 0 1 1 1 1 1 1 1 1 1 1\n",
      " 1 1 1 0 1 1 1 1 0 1 1 1 1 1 1 1 1 1 0 1 0 1 1 1 1 1 1 1 1 1 1 1 1 1 1 1 1\n",
      " 1 1 1 1 1 1 1 0 1 1 1 1 0 1 0 1 1 0 1 1 1 1 0 1 1 1 1 1 1 0 0 1 1 1 1 1 1\n",
      " 1 1 0 1 0 1]\n"
     ]
    }
   ],
   "source": [
    "print(mod.predict(x_test))"
   ]
  },
  {
   "cell_type": "markdown",
   "id": "039a6e54",
   "metadata": {},
   "source": [
    "# DONE"
   ]
  },
  {
   "cell_type": "code",
   "execution_count": null,
   "id": "7db47d91",
   "metadata": {},
   "outputs": [],
   "source": []
  }
 ],
 "metadata": {
  "kernelspec": {
   "display_name": "Python 3",
   "language": "python",
   "name": "python3"
  },
  "language_info": {
   "codemirror_mode": {
    "name": "ipython",
    "version": 3
   },
   "file_extension": ".py",
   "mimetype": "text/x-python",
   "name": "python",
   "nbconvert_exporter": "python",
   "pygments_lexer": "ipython3",
   "version": "3.8.8"
  }
 },
 "nbformat": 4,
 "nbformat_minor": 5
}
